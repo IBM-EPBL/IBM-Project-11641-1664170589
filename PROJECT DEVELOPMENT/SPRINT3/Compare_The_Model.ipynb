{
 "cells": [
  {
   "cell_type": "markdown",
   "metadata": {
    "id": "SlYk2kDN1unC"
   },
   "source": [
    "Importing Libraries"
   ]
  },
  {
   "cell_type": "code",
   "execution_count": 1,
   "metadata": {
    "id": "WkzcTYzjyO9A"
   },
   "outputs": [],
   "source": [
    "import numpy as np \n",
    "import pandas as pd\n",
    "from imblearn.combine import SMOTETomek\n",
    "from sklearn.preprocessing import LabelEncoder\n",
    "from sklearn.preprocessing import StandardScaler\n",
    "from sklearn.model_selection import train_test_split\n",
    "from sklearn.metrics import accuracy_score,confusion_matrix,classification_report,f1_score\n",
    "from sklearn.ensemble import RandomForestClassifier\n",
    "from sklearn.tree import DecisionTreeClassifier\n",
    "from sklearn.neighbors import KNeighborsClassifier\n",
    "from sklearn.ensemble import  GradientBoostingClassifier"
   ]
  },
  {
   "cell_type": "markdown",
   "metadata": {
    "id": "YKCT_Osy1xP4"
   },
   "source": [
    "Reading Dataset\n"
   ]
  },
  {
   "cell_type": "code",
   "execution_count": 4,
   "metadata": {
    "colab": {
     "base_uri": "https://localhost:8080/",
     "height": 287
    },
    "id": "1zGG1eg3y11T",
    "outputId": "2a719c20-e339-4b8b-8844-178134231b91"
   },
   "outputs": [
    {
     "data": {
      "text/html": [
       "<div>\n",
       "<style scoped>\n",
       "    .dataframe tbody tr th:only-of-type {\n",
       "        vertical-align: middle;\n",
       "    }\n",
       "\n",
       "    .dataframe tbody tr th {\n",
       "        vertical-align: top;\n",
       "    }\n",
       "\n",
       "    .dataframe thead th {\n",
       "        text-align: right;\n",
       "    }\n",
       "</style>\n",
       "<table border=\"1\" class=\"dataframe\">\n",
       "  <thead>\n",
       "    <tr style=\"text-align: right;\">\n",
       "      <th></th>\n",
       "      <th>Loan_ID</th>\n",
       "      <th>Gender</th>\n",
       "      <th>Married</th>\n",
       "      <th>Dependents</th>\n",
       "      <th>Education</th>\n",
       "      <th>Self_Employed</th>\n",
       "      <th>ApplicantIncome</th>\n",
       "      <th>CoapplicantIncome</th>\n",
       "      <th>LoanAmount</th>\n",
       "      <th>Loan_Amount_Term</th>\n",
       "      <th>Credit_History</th>\n",
       "      <th>Property_Area</th>\n",
       "      <th>Loan_Status</th>\n",
       "    </tr>\n",
       "  </thead>\n",
       "  <tbody>\n",
       "    <tr>\n",
       "      <th>0</th>\n",
       "      <td>LP001002</td>\n",
       "      <td>Male</td>\n",
       "      <td>No</td>\n",
       "      <td>0</td>\n",
       "      <td>Graduate</td>\n",
       "      <td>No</td>\n",
       "      <td>5849</td>\n",
       "      <td>0.0</td>\n",
       "      <td>NaN</td>\n",
       "      <td>360.0</td>\n",
       "      <td>1.0</td>\n",
       "      <td>Urban</td>\n",
       "      <td>Y</td>\n",
       "    </tr>\n",
       "    <tr>\n",
       "      <th>1</th>\n",
       "      <td>LP001003</td>\n",
       "      <td>Male</td>\n",
       "      <td>Yes</td>\n",
       "      <td>1</td>\n",
       "      <td>Graduate</td>\n",
       "      <td>No</td>\n",
       "      <td>4583</td>\n",
       "      <td>1508.0</td>\n",
       "      <td>128.0</td>\n",
       "      <td>360.0</td>\n",
       "      <td>1.0</td>\n",
       "      <td>Rural</td>\n",
       "      <td>N</td>\n",
       "    </tr>\n",
       "    <tr>\n",
       "      <th>2</th>\n",
       "      <td>LP001005</td>\n",
       "      <td>Male</td>\n",
       "      <td>Yes</td>\n",
       "      <td>0</td>\n",
       "      <td>Graduate</td>\n",
       "      <td>Yes</td>\n",
       "      <td>3000</td>\n",
       "      <td>0.0</td>\n",
       "      <td>66.0</td>\n",
       "      <td>360.0</td>\n",
       "      <td>1.0</td>\n",
       "      <td>Urban</td>\n",
       "      <td>Y</td>\n",
       "    </tr>\n",
       "    <tr>\n",
       "      <th>3</th>\n",
       "      <td>LP001006</td>\n",
       "      <td>Male</td>\n",
       "      <td>Yes</td>\n",
       "      <td>0</td>\n",
       "      <td>Not Graduate</td>\n",
       "      <td>No</td>\n",
       "      <td>2583</td>\n",
       "      <td>2358.0</td>\n",
       "      <td>120.0</td>\n",
       "      <td>360.0</td>\n",
       "      <td>1.0</td>\n",
       "      <td>Urban</td>\n",
       "      <td>Y</td>\n",
       "    </tr>\n",
       "    <tr>\n",
       "      <th>4</th>\n",
       "      <td>LP001008</td>\n",
       "      <td>Male</td>\n",
       "      <td>No</td>\n",
       "      <td>0</td>\n",
       "      <td>Graduate</td>\n",
       "      <td>No</td>\n",
       "      <td>6000</td>\n",
       "      <td>0.0</td>\n",
       "      <td>141.0</td>\n",
       "      <td>360.0</td>\n",
       "      <td>1.0</td>\n",
       "      <td>Urban</td>\n",
       "      <td>Y</td>\n",
       "    </tr>\n",
       "  </tbody>\n",
       "</table>\n",
       "</div>"
      ],
      "text/plain": [
       "    Loan_ID Gender Married Dependents     Education Self_Employed  \\\n",
       "0  LP001002   Male      No          0      Graduate            No   \n",
       "1  LP001003   Male     Yes          1      Graduate            No   \n",
       "2  LP001005   Male     Yes          0      Graduate           Yes   \n",
       "3  LP001006   Male     Yes          0  Not Graduate            No   \n",
       "4  LP001008   Male      No          0      Graduate            No   \n",
       "\n",
       "   ApplicantIncome  CoapplicantIncome  LoanAmount  Loan_Amount_Term  \\\n",
       "0             5849                0.0         NaN             360.0   \n",
       "1             4583             1508.0       128.0             360.0   \n",
       "2             3000                0.0        66.0             360.0   \n",
       "3             2583             2358.0       120.0             360.0   \n",
       "4             6000                0.0       141.0             360.0   \n",
       "\n",
       "   Credit_History Property_Area Loan_Status  \n",
       "0             1.0         Urban           Y  \n",
       "1             1.0         Rural           N  \n",
       "2             1.0         Urban           Y  \n",
       "3             1.0         Urban           Y  \n",
       "4             1.0         Urban           Y  "
      ]
     },
     "execution_count": 4,
     "metadata": {},
     "output_type": "execute_result"
    }
   ],
   "source": [
    "data=pd.read_csv(\"D:\\gokulnath\\ibm\\Loan_Predict.csv\")\n",
    "data.head()"
   ]
  },
  {
   "cell_type": "code",
   "execution_count": 5,
   "metadata": {
    "colab": {
     "base_uri": "https://localhost:8080/"
    },
    "id": "nQuFFKony1uw",
    "outputId": "5f1f5660-355d-4073-8eb5-746da7673cc4"
   },
   "outputs": [
    {
     "name": "stderr",
     "output_type": "stream",
     "text": [
      "C:\\Users\\M.DEVENDRAN\\AppData\\Local\\Temp\\ipykernel_21300\\3364968343.py:2: DeprecationWarning: `np.object` is a deprecated alias for the builtin `object`. To silence this warning, use `object` by itself. Doing this will not modify any behavior and is safe. \n",
      "Deprecated in NumPy 1.20; for more details and guidance: https://numpy.org/devdocs/release/1.20.0-notes.html#deprecations\n",
      "  categorical_features = data.select_dtypes(include = [np.object]).columns\n"
     ]
    }
   ],
   "source": [
    "numerical_features = data.select_dtypes(include = [np.number]).columns\n",
    "categorical_features = data.select_dtypes(include = [np.object]).columns"
   ]
  },
  {
   "cell_type": "markdown",
   "metadata": {
    "id": "ac8gih-311K7"
   },
   "source": [
    "Checking for Null Values"
   ]
  },
  {
   "cell_type": "code",
   "execution_count": 6,
   "metadata": {
    "colab": {
     "base_uri": "https://localhost:8080/"
    },
    "id": "LkqjMgjEy1xM",
    "outputId": "74232514-aa3c-4c5e-ee99-797ab600fe41"
   },
   "outputs": [
    {
     "data": {
      "text/plain": [
       "Loan_ID               0\n",
       "Gender               13\n",
       "Married               3\n",
       "Dependents           15\n",
       "Education             0\n",
       "Self_Employed        32\n",
       "ApplicantIncome       0\n",
       "CoapplicantIncome     0\n",
       "LoanAmount           22\n",
       "Loan_Amount_Term     14\n",
       "Credit_History       50\n",
       "Property_Area         0\n",
       "Loan_Status           0\n",
       "dtype: int64"
      ]
     },
     "execution_count": 6,
     "metadata": {},
     "output_type": "execute_result"
    }
   ],
   "source": [
    "data.isnull().sum()"
   ]
  },
  {
   "cell_type": "markdown",
   "metadata": {
    "id": "kwR8UIf314DG"
   },
   "source": [
    "Replacing Null Values with Mode and Median"
   ]
  },
  {
   "cell_type": "code",
   "execution_count": 7,
   "metadata": {
    "colab": {
     "base_uri": "https://localhost:8080/"
    },
    "id": "wficOFFXy1ro",
    "outputId": "6db0b836-641a-4690-cf63-5fe0cd2f81ad"
   },
   "outputs": [
    {
     "name": "stderr",
     "output_type": "stream",
     "text": [
      "C:\\Users\\M.DEVENDRAN\\AppData\\Local\\Temp\\ipykernel_21300\\1049561728.py:3: FutureWarning: The default value of regex will change from True to False in a future version. In addition, single character regular expressions will *not* be treated as literal strings when regex=True.\n",
      "  data['Dependents'] = data['Dependents'].str.replace('+','')\n"
     ]
    }
   ],
   "source": [
    "data['Gender'] = data['Gender'].fillna(data['Gender'].mode()[0])\n",
    "data['Married'] = data['Married'].fillna(data['Married'].mode()[0])\n",
    "data['Dependents'] = data['Dependents'].str.replace('+','')\n",
    "data['Dependents'] = data['Dependents'].fillna(data['Dependents'].mode()[0])\n",
    "data['LoanAmount'] = data['LoanAmount'].fillna(data['LoanAmount'].mode()[0])\n",
    "data['Self_Employed'] = data['Self_Employed'].fillna(data['Self_Employed'].mode()[0])\n",
    "data['Loan_Amount_Term'] = data['Loan_Amount_Term'].fillna(data['Loan_Amount_Term'].mode()[0])\n",
    "data['Credit_History'] = data['Credit_History'].fillna(data['Credit_History'].mode()[0])"
   ]
  },
  {
   "cell_type": "markdown",
   "metadata": {
    "id": "M4Rv8EZl19eO"
   },
   "source": [
    "Verifying"
   ]
  },
  {
   "cell_type": "code",
   "execution_count": 8,
   "metadata": {
    "colab": {
     "base_uri": "https://localhost:8080/"
    },
    "id": "24oEZH5My1ig",
    "outputId": "5318fc6f-44a7-4bec-f02d-aac26c1d2edf"
   },
   "outputs": [
    {
     "data": {
      "text/plain": [
       "Loan_ID              0\n",
       "Gender               0\n",
       "Married              0\n",
       "Dependents           0\n",
       "Education            0\n",
       "Self_Employed        0\n",
       "ApplicantIncome      0\n",
       "CoapplicantIncome    0\n",
       "LoanAmount           0\n",
       "Loan_Amount_Term     0\n",
       "Credit_History       0\n",
       "Property_Area        0\n",
       "Loan_Status          0\n",
       "dtype: int64"
      ]
     },
     "execution_count": 8,
     "metadata": {},
     "output_type": "execute_result"
    }
   ],
   "source": [
    "data.isnull().sum()"
   ]
  },
  {
   "cell_type": "markdown",
   "metadata": {
    "id": "RACaUdyN1_MA"
   },
   "source": [
    "Conversion to Numerical Values"
   ]
  },
  {
   "cell_type": "code",
   "execution_count": 9,
   "metadata": {
    "id": "ycMqZiCGy1gE"
   },
   "outputs": [],
   "source": [
    "data['Gender'].replace({'Male':1,'Female':0},inplace=True)\n",
    "data['Dependents'].replace({'0':0,'1':1,'2':2,'3':3},inplace=True)\n",
    "data['Married'].replace({'Yes':1,'No':0},inplace=True)\n",
    "data['Self_Employed'].replace({'Yes':1,'No':0},inplace=True)\n",
    "data['Property_Area'].replace({'Urban':2,'Rural':0,'Semiurban':1},inplace=True)\n",
    "data['Education'].replace({'Graduate':1,'Not Graduate':0},inplace=True)\n",
    "data['Loan_Status'].replace({'Y':1,'N':0},inplace=True)"
   ]
  },
  {
   "cell_type": "code",
   "execution_count": 10,
   "metadata": {
    "id": "Ni-Bo_3-y1dw"
   },
   "outputs": [],
   "source": [
    "data['CoapplicantIncome']=data['CoapplicantIncome'].astype(\"int64\")\n",
    "data['LoanAmount']=data['LoanAmount'].astype(\"int64\")\n",
    "data['Loan_Amount_Term']=data['Loan_Amount_Term'].astype(\"int64\")\n",
    "data['Credit_History']=data['Credit_History'].astype(\"int64\")"
   ]
  },
  {
   "cell_type": "markdown",
   "metadata": {
    "id": "x-tzJQAz2CK3"
   },
   "source": [
    "Label Encoding"
   ]
  },
  {
   "cell_type": "code",
   "execution_count": 11,
   "metadata": {
    "colab": {
     "base_uri": "https://localhost:8080/",
     "height": 270
    },
    "id": "yzvHyqCzy1ba",
    "outputId": "599f48d8-2cfb-405b-9fa8-edec180445e4"
   },
   "outputs": [
    {
     "data": {
      "text/html": [
       "<div>\n",
       "<style scoped>\n",
       "    .dataframe tbody tr th:only-of-type {\n",
       "        vertical-align: middle;\n",
       "    }\n",
       "\n",
       "    .dataframe tbody tr th {\n",
       "        vertical-align: top;\n",
       "    }\n",
       "\n",
       "    .dataframe thead th {\n",
       "        text-align: right;\n",
       "    }\n",
       "</style>\n",
       "<table border=\"1\" class=\"dataframe\">\n",
       "  <thead>\n",
       "    <tr style=\"text-align: right;\">\n",
       "      <th></th>\n",
       "      <th>Loan_ID</th>\n",
       "      <th>Gender</th>\n",
       "      <th>Married</th>\n",
       "      <th>Dependents</th>\n",
       "      <th>Education</th>\n",
       "      <th>Self_Employed</th>\n",
       "      <th>ApplicantIncome</th>\n",
       "      <th>CoapplicantIncome</th>\n",
       "      <th>LoanAmount</th>\n",
       "      <th>Loan_Amount_Term</th>\n",
       "      <th>Credit_History</th>\n",
       "      <th>Property_Area</th>\n",
       "      <th>Loan_Status</th>\n",
       "    </tr>\n",
       "  </thead>\n",
       "  <tbody>\n",
       "    <tr>\n",
       "      <th>0</th>\n",
       "      <td>0</td>\n",
       "      <td>1</td>\n",
       "      <td>0</td>\n",
       "      <td>0</td>\n",
       "      <td>1</td>\n",
       "      <td>0</td>\n",
       "      <td>5849</td>\n",
       "      <td>0</td>\n",
       "      <td>120</td>\n",
       "      <td>360</td>\n",
       "      <td>1</td>\n",
       "      <td>2</td>\n",
       "      <td>1</td>\n",
       "    </tr>\n",
       "    <tr>\n",
       "      <th>1</th>\n",
       "      <td>1</td>\n",
       "      <td>1</td>\n",
       "      <td>1</td>\n",
       "      <td>1</td>\n",
       "      <td>1</td>\n",
       "      <td>0</td>\n",
       "      <td>4583</td>\n",
       "      <td>1508</td>\n",
       "      <td>128</td>\n",
       "      <td>360</td>\n",
       "      <td>1</td>\n",
       "      <td>0</td>\n",
       "      <td>0</td>\n",
       "    </tr>\n",
       "    <tr>\n",
       "      <th>2</th>\n",
       "      <td>2</td>\n",
       "      <td>1</td>\n",
       "      <td>1</td>\n",
       "      <td>0</td>\n",
       "      <td>1</td>\n",
       "      <td>1</td>\n",
       "      <td>3000</td>\n",
       "      <td>0</td>\n",
       "      <td>66</td>\n",
       "      <td>360</td>\n",
       "      <td>1</td>\n",
       "      <td>2</td>\n",
       "      <td>1</td>\n",
       "    </tr>\n",
       "    <tr>\n",
       "      <th>3</th>\n",
       "      <td>3</td>\n",
       "      <td>1</td>\n",
       "      <td>1</td>\n",
       "      <td>0</td>\n",
       "      <td>0</td>\n",
       "      <td>0</td>\n",
       "      <td>2583</td>\n",
       "      <td>2358</td>\n",
       "      <td>120</td>\n",
       "      <td>360</td>\n",
       "      <td>1</td>\n",
       "      <td>2</td>\n",
       "      <td>1</td>\n",
       "    </tr>\n",
       "    <tr>\n",
       "      <th>4</th>\n",
       "      <td>4</td>\n",
       "      <td>1</td>\n",
       "      <td>0</td>\n",
       "      <td>0</td>\n",
       "      <td>1</td>\n",
       "      <td>0</td>\n",
       "      <td>6000</td>\n",
       "      <td>0</td>\n",
       "      <td>141</td>\n",
       "      <td>360</td>\n",
       "      <td>1</td>\n",
       "      <td>2</td>\n",
       "      <td>1</td>\n",
       "    </tr>\n",
       "  </tbody>\n",
       "</table>\n",
       "</div>"
      ],
      "text/plain": [
       "   Loan_ID  Gender  Married  Dependents  Education  Self_Employed  \\\n",
       "0        0       1        0           0          1              0   \n",
       "1        1       1        1           1          1              0   \n",
       "2        2       1        1           0          1              1   \n",
       "3        3       1        1           0          0              0   \n",
       "4        4       1        0           0          1              0   \n",
       "\n",
       "   ApplicantIncome  CoapplicantIncome  LoanAmount  Loan_Amount_Term  \\\n",
       "0             5849                  0         120               360   \n",
       "1             4583               1508         128               360   \n",
       "2             3000                  0          66               360   \n",
       "3             2583               2358         120               360   \n",
       "4             6000                  0         141               360   \n",
       "\n",
       "   Credit_History  Property_Area  Loan_Status  \n",
       "0               1              2            1  \n",
       "1               1              0            0  \n",
       "2               1              2            1  \n",
       "3               1              2            1  \n",
       "4               1              2            1  "
      ]
     },
     "execution_count": 11,
     "metadata": {},
     "output_type": "execute_result"
    }
   ],
   "source": [
    "le = LabelEncoder()\n",
    "data['Loan_ID'] = le.fit_transform(data.Loan_ID)\n",
    "data.head()"
   ]
  },
  {
   "cell_type": "code",
   "execution_count": 12,
   "metadata": {
    "colab": {
     "base_uri": "https://localhost:8080/"
    },
    "id": "zanL991t0l6J",
    "outputId": "bfbeb6be-21aa-446d-a840-629ce10fcc36"
   },
   "outputs": [
    {
     "name": "stderr",
     "output_type": "stream",
     "text": [
      "C:\\Users\\M.DEVENDRAN\\AppData\\Roaming\\Python\\Python39\\site-packages\\imblearn\\utils\\_validation.py:586: FutureWarning: Pass sampling_strategy=0.9 as keyword args. From version 0.9 passing these as positional arguments will result in an error\n",
      "  warnings.warn(\n"
     ]
    }
   ],
   "source": [
    "smote = SMOTETomek(0.90)\n",
    "\n",
    "y = data['Loan_Status']\n",
    "x = data.drop(columns=['Loan_Status'],axis=1)"
   ]
  },
  {
   "cell_type": "code",
   "execution_count": 13,
   "metadata": {
    "colab": {
     "base_uri": "https://localhost:8080/"
    },
    "id": "VhPHv-hW0mDk",
    "outputId": "e7d2f647-a6e4-4a2d-acb6-bb1c3e33d17f"
   },
   "outputs": [
    {
     "name": "stdout",
     "output_type": "stream",
     "text": [
      "1    422\n",
      "0    192\n",
      "Name: Loan_Status, dtype: int64\n",
      "1    362\n",
      "0    319\n",
      "Name: Loan_Status, dtype: int64\n"
     ]
    }
   ],
   "source": [
    "x_bal,y_bal = smote.fit_resample(x,y)\n",
    "print(y.value_counts())\n",
    "print(y_bal.value_counts())"
   ]
  },
  {
   "cell_type": "code",
   "execution_count": 14,
   "metadata": {
    "colab": {
     "base_uri": "https://localhost:8080/",
     "height": 206
    },
    "id": "GCA5mIm10mGb",
    "outputId": "24388b04-c625-4ad4-8a0c-ab7b564d6997"
   },
   "outputs": [
    {
     "data": {
      "text/html": [
       "<div>\n",
       "<style scoped>\n",
       "    .dataframe tbody tr th:only-of-type {\n",
       "        vertical-align: middle;\n",
       "    }\n",
       "\n",
       "    .dataframe tbody tr th {\n",
       "        vertical-align: top;\n",
       "    }\n",
       "\n",
       "    .dataframe thead th {\n",
       "        text-align: right;\n",
       "    }\n",
       "</style>\n",
       "<table border=\"1\" class=\"dataframe\">\n",
       "  <thead>\n",
       "    <tr style=\"text-align: right;\">\n",
       "      <th></th>\n",
       "      <th>0</th>\n",
       "      <th>1</th>\n",
       "      <th>2</th>\n",
       "      <th>3</th>\n",
       "      <th>4</th>\n",
       "      <th>5</th>\n",
       "      <th>6</th>\n",
       "      <th>7</th>\n",
       "      <th>8</th>\n",
       "      <th>9</th>\n",
       "      <th>10</th>\n",
       "      <th>11</th>\n",
       "    </tr>\n",
       "  </thead>\n",
       "  <tbody>\n",
       "    <tr>\n",
       "      <th>0</th>\n",
       "      <td>-1.699989</td>\n",
       "      <td>0.517838</td>\n",
       "      <td>-1.230006</td>\n",
       "      <td>-0.702450</td>\n",
       "      <td>0.637985</td>\n",
       "      <td>-0.327593</td>\n",
       "      <td>0.112805</td>\n",
       "      <td>-0.587119</td>\n",
       "      <td>-0.329522</td>\n",
       "      <td>0.30435</td>\n",
       "      <td>0.581307</td>\n",
       "      <td>1.401119</td>\n",
       "    </tr>\n",
       "    <tr>\n",
       "      <th>1</th>\n",
       "      <td>-1.694240</td>\n",
       "      <td>0.517838</td>\n",
       "      <td>0.813004</td>\n",
       "      <td>0.355887</td>\n",
       "      <td>0.637985</td>\n",
       "      <td>-0.327593</td>\n",
       "      <td>-0.116531</td>\n",
       "      <td>-0.060623</td>\n",
       "      <td>-0.227456</td>\n",
       "      <td>0.30435</td>\n",
       "      <td>0.581307</td>\n",
       "      <td>-1.174217</td>\n",
       "    </tr>\n",
       "    <tr>\n",
       "      <th>2</th>\n",
       "      <td>-1.688490</td>\n",
       "      <td>0.517838</td>\n",
       "      <td>0.813004</td>\n",
       "      <td>-0.702450</td>\n",
       "      <td>0.637985</td>\n",
       "      <td>3.052570</td>\n",
       "      <td>-0.403292</td>\n",
       "      <td>-0.587119</td>\n",
       "      <td>-1.018466</td>\n",
       "      <td>0.30435</td>\n",
       "      <td>0.581307</td>\n",
       "      <td>1.401119</td>\n",
       "    </tr>\n",
       "    <tr>\n",
       "      <th>3</th>\n",
       "      <td>-1.682741</td>\n",
       "      <td>0.517838</td>\n",
       "      <td>0.813004</td>\n",
       "      <td>-0.702450</td>\n",
       "      <td>-1.567435</td>\n",
       "      <td>-0.327593</td>\n",
       "      <td>-0.478832</td>\n",
       "      <td>0.236142</td>\n",
       "      <td>-0.329522</td>\n",
       "      <td>0.30435</td>\n",
       "      <td>0.581307</td>\n",
       "      <td>1.401119</td>\n",
       "    </tr>\n",
       "    <tr>\n",
       "      <th>4</th>\n",
       "      <td>-1.676992</td>\n",
       "      <td>0.517838</td>\n",
       "      <td>-1.230006</td>\n",
       "      <td>-0.702450</td>\n",
       "      <td>0.637985</td>\n",
       "      <td>-0.327593</td>\n",
       "      <td>0.140159</td>\n",
       "      <td>-0.587119</td>\n",
       "      <td>-0.061599</td>\n",
       "      <td>0.30435</td>\n",
       "      <td>0.581307</td>\n",
       "      <td>1.401119</td>\n",
       "    </tr>\n",
       "  </tbody>\n",
       "</table>\n",
       "</div>"
      ],
      "text/plain": [
       "         0         1         2         3         4         5         6   \\\n",
       "0 -1.699989  0.517838 -1.230006 -0.702450  0.637985 -0.327593  0.112805   \n",
       "1 -1.694240  0.517838  0.813004  0.355887  0.637985 -0.327593 -0.116531   \n",
       "2 -1.688490  0.517838  0.813004 -0.702450  0.637985  3.052570 -0.403292   \n",
       "3 -1.682741  0.517838  0.813004 -0.702450 -1.567435 -0.327593 -0.478832   \n",
       "4 -1.676992  0.517838 -1.230006 -0.702450  0.637985 -0.327593  0.140159   \n",
       "\n",
       "         7         8        9         10        11  \n",
       "0 -0.587119 -0.329522  0.30435  0.581307  1.401119  \n",
       "1 -0.060623 -0.227456  0.30435  0.581307 -1.174217  \n",
       "2 -0.587119 -1.018466  0.30435  0.581307  1.401119  \n",
       "3  0.236142 -0.329522  0.30435  0.581307  1.401119  \n",
       "4 -0.587119 -0.061599  0.30435  0.581307  1.401119  "
      ]
     },
     "execution_count": 14,
     "metadata": {},
     "output_type": "execute_result"
    }
   ],
   "source": [
    "scaler = StandardScaler()\n",
    "x_bal = scaler.fit_transform(x_bal)\n",
    "x_bal = pd.DataFrame(x_bal)\n",
    "x_bal.head()"
   ]
  },
  {
   "cell_type": "markdown",
   "metadata": {
    "id": "Gkp1jAcX2FPM"
   },
   "source": [
    "Splitting of Data into Train and Test"
   ]
  },
  {
   "cell_type": "code",
   "execution_count": 15,
   "metadata": {
    "id": "dFspRuDx0mIi"
   },
   "outputs": [],
   "source": [
    "x_train, x_test, y_train, y_test = train_test_split(x_bal, y_bal, test_size = 0.33, random_state = 30)"
   ]
  },
  {
   "cell_type": "markdown",
   "metadata": {
    "id": "VshW3DoT2K2f"
   },
   "source": [
    "Compare The Model"
   ]
  },
  {
   "cell_type": "markdown",
   "metadata": {
    "id": "3dJbF0x4E6nZ"
   },
   "source": [
    "Random Forest \n"
   ]
  },
  {
   "cell_type": "code",
   "execution_count": 16,
   "metadata": {
    "colab": {
     "base_uri": "https://localhost:8080/"
    },
    "id": "xTzietEnE8KA",
    "outputId": "01866c84-eb80-4bed-b5f1-612e201bada4"
   },
   "outputs": [
    {
     "name": "stdout",
     "output_type": "stream",
     "text": [
      "RandomForestClassifier\n",
      "Confusion matrix\n",
      "[[ 81  23]\n",
      " [ 11 110]]\n",
      "Classification report\n",
      "              precision    recall  f1-score   support\n",
      "\n",
      "           0       0.88      0.78      0.83       104\n",
      "           1       0.83      0.91      0.87       121\n",
      "\n",
      "    accuracy                           0.85       225\n",
      "   macro avg       0.85      0.84      0.85       225\n",
      "weighted avg       0.85      0.85      0.85       225\n",
      "\n",
      "Testing accuracy:  0.8488888888888889\n",
      "Training accuracy:  1.0\n"
     ]
    }
   ],
   "source": [
    "def randomForestClassifier(x_train, x_test, y_train, y_test):\n",
    "    rf = RandomForestClassifier() \n",
    "    rf.fit(x_train,y_train)\n",
    "    yPred = rf.predict(x_test)\n",
    "    print(\"RandomForestClassifier\") \n",
    "    print(\"Confusion matrix\")\n",
    "    print(confusion_matrix(y_test ,yPred) ) \n",
    "    print(\"Classification report\")\n",
    "    print(classification_report (y_test, yPred))\n",
    "    y_pred=rf.predict(x_test)\n",
    "    y_pred1=rf.predict(x_train)\n",
    "    random_forest_test_accuracy = accuracy_score(y_test,y_pred)\n",
    "    random_forest_train_accuracy = accuracy_score(y_train,y_pred1)\n",
    "    print('Testing accuracy: ', random_forest_test_accuracy)\n",
    "    print('Training accuracy: ',random_forest_train_accuracy)\n",
    "\n",
    "randomForestClassifier(x_train, x_test, y_train, y_test)"
   ]
  },
  {
   "cell_type": "markdown",
   "metadata": {
    "id": "K5iLfEbvE_gP"
   },
   "source": [
    "Decision Tree "
   ]
  },
  {
   "cell_type": "code",
   "execution_count": 17,
   "metadata": {
    "colab": {
     "base_uri": "https://localhost:8080/"
    },
    "id": "pVXdOoKkE8zU",
    "outputId": "3c58dccf-1b12-4f39-c520-7bba069b03a1"
   },
   "outputs": [
    {
     "name": "stdout",
     "output_type": "stream",
     "text": [
      "DecisionTreeClassifier\n",
      "Confusion matrix\n",
      "[[ 81  23]\n",
      " [ 18 103]]\n",
      "Classification report\n",
      "              precision    recall  f1-score   support\n",
      "\n",
      "           0       0.82      0.78      0.80       104\n",
      "           1       0.82      0.85      0.83       121\n",
      "\n",
      "    accuracy                           0.82       225\n",
      "   macro avg       0.82      0.82      0.82       225\n",
      "weighted avg       0.82      0.82      0.82       225\n",
      "\n",
      "Testing accuracy:  0.8177777777777778\n",
      "Training accuracy:  1.0\n"
     ]
    }
   ],
   "source": [
    "def decisionTreeClassifier(x_train, x_test, y_train, y_test):\n",
    "    dt = DecisionTreeClassifier() \n",
    "    dt.fit(x_train,y_train)\n",
    "    yPred = dt.predict(x_test)\n",
    "    print(\"DecisionTreeClassifier\") \n",
    "    print(\"Confusion matrix\")\n",
    "    print(confusion_matrix(y_test ,yPred) ) \n",
    "    print(\"Classification report\")\n",
    "    print(classification_report (y_test, yPred))\n",
    "    y_pred=dt.predict(x_test)\n",
    "    y_pred1=dt.predict(x_train)\n",
    "    decision_tree_test_accuracy = accuracy_score(y_test,y_pred)\n",
    "    decision_tree_train_accuracy = accuracy_score(y_train,y_pred1)\n",
    "    print('Testing accuracy: ', decision_tree_test_accuracy)\n",
    "    print('Training accuracy: ', decision_tree_train_accuracy)\n",
    "\n",
    "decisionTreeClassifier(x_train, x_test, y_train, y_test)"
   ]
  },
  {
   "cell_type": "markdown",
   "metadata": {
    "id": "mTF-QcUYFB-w"
   },
   "source": [
    "KNN"
   ]
  },
  {
   "cell_type": "code",
   "execution_count": 18,
   "metadata": {
    "colab": {
     "base_uri": "https://localhost:8080/"
    },
    "id": "jmiOHV9lE8w8",
    "outputId": "9c2a7292-628e-4f9c-acff-169477233681"
   },
   "outputs": [
    {
     "name": "stdout",
     "output_type": "stream",
     "text": [
      "KNN\n",
      "Confusion matrix\n",
      "[[ 69  35]\n",
      " [ 18 103]]\n",
      "Classification report\n",
      "              precision    recall  f1-score   support\n",
      "\n",
      "           0       0.79      0.66      0.72       104\n",
      "           1       0.75      0.85      0.80       121\n",
      "\n",
      "    accuracy                           0.76       225\n",
      "   macro avg       0.77      0.76      0.76       225\n",
      "weighted avg       0.77      0.76      0.76       225\n",
      "\n",
      "Testing accuracy:  0.7644444444444445\n",
      "Training accuracy:  0.8399122807017544\n"
     ]
    }
   ],
   "source": [
    "def kneighborsClassifier(x_train, x_test, y_train, y_test):\n",
    "    knn = KNeighborsClassifier() \n",
    "    knn.fit(x_train,y_train)\n",
    "    yPred = knn.predict(x_test)\n",
    "    print(\"KNN\") \n",
    "    print(\"Confusion matrix\")\n",
    "    print(confusion_matrix(y_test ,yPred) ) \n",
    "    print(\"Classification report\")\n",
    "    print(classification_report (y_test, yPred))\n",
    "    y_pred=knn.predict(x_test)\n",
    "    y_pred1=knn.predict(x_train)\n",
    "    knn_test_accuracy = accuracy_score(y_test,y_pred)\n",
    "    knn_train_accuracy = accuracy_score(y_train,y_pred1)\n",
    "    print('Testing accuracy: ',knn_test_accuracy)\n",
    "    print('Training accuracy: ', knn_train_accuracy)\n",
    "\n",
    "kneighborsClassifier(x_train, x_test, y_train, y_test)"
   ]
  },
  {
   "cell_type": "markdown",
   "metadata": {
    "id": "38judu77FFGR"
   },
   "source": [
    "Xgboost"
   ]
  },
  {
   "cell_type": "code",
   "execution_count": 19,
   "metadata": {
    "colab": {
     "base_uri": "https://localhost:8080/"
    },
    "id": "C5olzEZqE8vE",
    "outputId": "3a13683c-3adf-4b5b-bc9a-66bd91014ad8"
   },
   "outputs": [
    {
     "name": "stdout",
     "output_type": "stream",
     "text": [
      "Xgboost\n",
      "Confusion matrix\n",
      "[[ 73  31]\n",
      " [ 11 110]]\n",
      "Classification report\n",
      "              precision    recall  f1-score   support\n",
      "\n",
      "           0       0.87      0.70      0.78       104\n",
      "           1       0.78      0.91      0.84       121\n",
      "\n",
      "    accuracy                           0.81       225\n",
      "   macro avg       0.82      0.81      0.81       225\n",
      "weighted avg       0.82      0.81      0.81       225\n",
      "\n",
      "Testing accuracy:  0.8133333333333334\n",
      "Training accuracy:  0.9364035087719298\n"
     ]
    }
   ],
   "source": [
    "def xgboost(x_train, x_test, y_train, y_test):\n",
    "    xg = GradientBoostingClassifier() \n",
    "    xg.fit(x_train,y_train)\n",
    "    yPred = xg.predict(x_test)\n",
    "    print(\"Xgboost\") \n",
    "    print(\"Confusion matrix\")\n",
    "    print(confusion_matrix(y_test ,yPred) ) \n",
    "    print(\"Classification report\")\n",
    "    print(classification_report (y_test, yPred))\n",
    "    y_pred=xg.predict(x_test)\n",
    "    y_pred1=xg.predict(x_train)\n",
    "    xgboost_test_accuracy = accuracy_score(y_test,y_pred)\n",
    "    xgboost_train_accuracy = accuracy_score(y_train,y_pred1)\n",
    "    print('Testing accuracy: ', xgboost_test_accuracy)\n",
    "    print('Training accuracy: ', xgboost_train_accuracy)\n",
    "  \n",
    "xgboost(x_train, x_test, y_train, y_test)"
   ]
  },
  {
   "cell_type": "code",
   "execution_count": 20,
   "metadata": {
    "colab": {
     "base_uri": "https://localhost:8080/"
    },
    "id": "K3zNtjBWE8tO",
    "outputId": "275b3435-b7bc-43a0-b699-8d3901fb0653"
   },
   "outputs": [
    {
     "name": "stdout",
     "output_type": "stream",
     "text": [
      "RandomForestClassifier\n",
      "Confusion matrix\n",
      "[[ 78  26]\n",
      " [ 14 107]]\n",
      "Classification report\n",
      "              precision    recall  f1-score   support\n",
      "\n",
      "           0       0.85      0.75      0.80       104\n",
      "           1       0.80      0.88      0.84       121\n",
      "\n",
      "    accuracy                           0.82       225\n",
      "   macro avg       0.83      0.82      0.82       225\n",
      "weighted avg       0.82      0.82      0.82       225\n",
      "\n",
      "Testing accuracy:  0.8222222222222222\n",
      "Training accuracy:  1.0\n",
      "DecisionTreeClassifier\n",
      "Confusion matrix\n",
      "[[ 77  27]\n",
      " [ 19 102]]\n",
      "Classification report\n",
      "              precision    recall  f1-score   support\n",
      "\n",
      "           0       0.80      0.74      0.77       104\n",
      "           1       0.79      0.84      0.82       121\n",
      "\n",
      "    accuracy                           0.80       225\n",
      "   macro avg       0.80      0.79      0.79       225\n",
      "weighted avg       0.80      0.80      0.79       225\n",
      "\n",
      "Testing accuracy:  0.7955555555555556\n",
      "Training accuracy:  1.0\n",
      "KNN\n",
      "Confusion matrix\n",
      "[[ 69  35]\n",
      " [ 18 103]]\n",
      "Classification report\n",
      "              precision    recall  f1-score   support\n",
      "\n",
      "           0       0.79      0.66      0.72       104\n",
      "           1       0.75      0.85      0.80       121\n",
      "\n",
      "    accuracy                           0.76       225\n",
      "   macro avg       0.77      0.76      0.76       225\n",
      "weighted avg       0.77      0.76      0.76       225\n",
      "\n",
      "Testing accuracy:  0.7644444444444445\n",
      "Training accuracy:  0.8399122807017544\n",
      "Xgboost\n",
      "Confusion matrix\n",
      "[[ 73  31]\n",
      " [ 11 110]]\n",
      "Classification report\n",
      "              precision    recall  f1-score   support\n",
      "\n",
      "           0       0.87      0.70      0.78       104\n",
      "           1       0.78      0.91      0.84       121\n",
      "\n",
      "    accuracy                           0.81       225\n",
      "   macro avg       0.82      0.81      0.81       225\n",
      "weighted avg       0.82      0.81      0.81       225\n",
      "\n",
      "Testing accuracy:  0.8133333333333334\n",
      "Training accuracy:  0.9364035087719298\n"
     ]
    }
   ],
   "source": [
    "randomForestClassifier(x_train, x_test, y_train, y_test)\n",
    "decisionTreeClassifier(x_train, x_test, y_train, y_test)\n",
    "kneighborsClassifier(x_train, x_test, y_train, y_test)\n",
    "xgboost(x_train, x_test, y_train, y_test)"
   ]
  },
  {
   "cell_type": "markdown",
   "metadata": {
    "id": "dQc3QjGhF3II"
   },
   "source": [
    "By comparing the accuracy of all the models we can see that random forest model is giving better accuracy\n",
    "Hence random forest model is choosen for further steps"
   ]
  }
 ],
 "metadata": {
  "colab": {
   "provenance": []
  },
  "kernelspec": {
   "display_name": "Python 3 (ipykernel)",
   "language": "python",
   "name": "python3"
  },
  "language_info": {
   "codemirror_mode": {
    "name": "ipython",
    "version": 3
   },
   "file_extension": ".py",
   "mimetype": "text/x-python",
   "name": "python",
   "nbconvert_exporter": "python",
   "pygments_lexer": "ipython3",
   "version": "3.9.12"
  }
 },
 "nbformat": 4,
 "nbformat_minor": 1
}
