{
 "cells": [
  {
   "cell_type": "markdown",
   "metadata": {
    "id": "SlYk2kDN1unC"
   },
   "source": [
    "Importing Libraries"
   ]
  },
  {
   "cell_type": "code",
   "execution_count": 1,
   "metadata": {
    "id": "WkzcTYzjyO9A"
   },
   "outputs": [],
   "source": [
    "import numpy as np \n",
    "import pandas as pd\n",
    "from imblearn.combine import SMOTETomek\n",
    "from sklearn.preprocessing import LabelEncoder\n",
    "from sklearn.preprocessing import StandardScaler\n",
    "from sklearn.model_selection import train_test_split\n",
    "from sklearn.metrics import accuracy_score,confusion_matrix,classification_report,f1_score\n",
    "from sklearn.ensemble import RandomForestClassifier\n",
    "from sklearn.tree import DecisionTreeClassifier\n",
    "from sklearn.neighbors import KNeighborsClassifier\n",
    "from sklearn.ensemble import  GradientBoostingClassifier"
   ]
  },
  {
   "cell_type": "markdown",
   "metadata": {
    "id": "YKCT_Osy1xP4"
   },
   "source": [
    "Reading Dataset\n"
   ]
  },
  {
   "cell_type": "code",
   "execution_count": 2,
   "metadata": {
    "colab": {
     "base_uri": "https://localhost:8080/",
     "height": 287
    },
    "id": "1zGG1eg3y11T",
    "outputId": "459378b9-cad5-4dff-8896-8bcbe600af50"
   },
   "outputs": [
    {
     "data": {
      "text/html": [
       "<div>\n",
       "<style scoped>\n",
       "    .dataframe tbody tr th:only-of-type {\n",
       "        vertical-align: middle;\n",
       "    }\n",
       "\n",
       "    .dataframe tbody tr th {\n",
       "        vertical-align: top;\n",
       "    }\n",
       "\n",
       "    .dataframe thead th {\n",
       "        text-align: right;\n",
       "    }\n",
       "</style>\n",
       "<table border=\"1\" class=\"dataframe\">\n",
       "  <thead>\n",
       "    <tr style=\"text-align: right;\">\n",
       "      <th></th>\n",
       "      <th>Loan_ID</th>\n",
       "      <th>Gender</th>\n",
       "      <th>Married</th>\n",
       "      <th>Dependents</th>\n",
       "      <th>Education</th>\n",
       "      <th>Self_Employed</th>\n",
       "      <th>ApplicantIncome</th>\n",
       "      <th>CoapplicantIncome</th>\n",
       "      <th>LoanAmount</th>\n",
       "      <th>Loan_Amount_Term</th>\n",
       "      <th>Credit_History</th>\n",
       "      <th>Property_Area</th>\n",
       "      <th>Loan_Status</th>\n",
       "    </tr>\n",
       "  </thead>\n",
       "  <tbody>\n",
       "    <tr>\n",
       "      <th>0</th>\n",
       "      <td>LP001002</td>\n",
       "      <td>Male</td>\n",
       "      <td>No</td>\n",
       "      <td>0</td>\n",
       "      <td>Graduate</td>\n",
       "      <td>No</td>\n",
       "      <td>5849</td>\n",
       "      <td>0.0</td>\n",
       "      <td>NaN</td>\n",
       "      <td>360.0</td>\n",
       "      <td>1.0</td>\n",
       "      <td>Urban</td>\n",
       "      <td>Y</td>\n",
       "    </tr>\n",
       "    <tr>\n",
       "      <th>1</th>\n",
       "      <td>LP001003</td>\n",
       "      <td>Male</td>\n",
       "      <td>Yes</td>\n",
       "      <td>1</td>\n",
       "      <td>Graduate</td>\n",
       "      <td>No</td>\n",
       "      <td>4583</td>\n",
       "      <td>1508.0</td>\n",
       "      <td>128.0</td>\n",
       "      <td>360.0</td>\n",
       "      <td>1.0</td>\n",
       "      <td>Rural</td>\n",
       "      <td>N</td>\n",
       "    </tr>\n",
       "    <tr>\n",
       "      <th>2</th>\n",
       "      <td>LP001005</td>\n",
       "      <td>Male</td>\n",
       "      <td>Yes</td>\n",
       "      <td>0</td>\n",
       "      <td>Graduate</td>\n",
       "      <td>Yes</td>\n",
       "      <td>3000</td>\n",
       "      <td>0.0</td>\n",
       "      <td>66.0</td>\n",
       "      <td>360.0</td>\n",
       "      <td>1.0</td>\n",
       "      <td>Urban</td>\n",
       "      <td>Y</td>\n",
       "    </tr>\n",
       "    <tr>\n",
       "      <th>3</th>\n",
       "      <td>LP001006</td>\n",
       "      <td>Male</td>\n",
       "      <td>Yes</td>\n",
       "      <td>0</td>\n",
       "      <td>Not Graduate</td>\n",
       "      <td>No</td>\n",
       "      <td>2583</td>\n",
       "      <td>2358.0</td>\n",
       "      <td>120.0</td>\n",
       "      <td>360.0</td>\n",
       "      <td>1.0</td>\n",
       "      <td>Urban</td>\n",
       "      <td>Y</td>\n",
       "    </tr>\n",
       "    <tr>\n",
       "      <th>4</th>\n",
       "      <td>LP001008</td>\n",
       "      <td>Male</td>\n",
       "      <td>No</td>\n",
       "      <td>0</td>\n",
       "      <td>Graduate</td>\n",
       "      <td>No</td>\n",
       "      <td>6000</td>\n",
       "      <td>0.0</td>\n",
       "      <td>141.0</td>\n",
       "      <td>360.0</td>\n",
       "      <td>1.0</td>\n",
       "      <td>Urban</td>\n",
       "      <td>Y</td>\n",
       "    </tr>\n",
       "  </tbody>\n",
       "</table>\n",
       "</div>"
      ],
      "text/plain": [
       "    Loan_ID Gender Married Dependents     Education Self_Employed  \\\n",
       "0  LP001002   Male      No          0      Graduate            No   \n",
       "1  LP001003   Male     Yes          1      Graduate            No   \n",
       "2  LP001005   Male     Yes          0      Graduate           Yes   \n",
       "3  LP001006   Male     Yes          0  Not Graduate            No   \n",
       "4  LP001008   Male      No          0      Graduate            No   \n",
       "\n",
       "   ApplicantIncome  CoapplicantIncome  LoanAmount  Loan_Amount_Term  \\\n",
       "0             5849                0.0         NaN             360.0   \n",
       "1             4583             1508.0       128.0             360.0   \n",
       "2             3000                0.0        66.0             360.0   \n",
       "3             2583             2358.0       120.0             360.0   \n",
       "4             6000                0.0       141.0             360.0   \n",
       "\n",
       "   Credit_History Property_Area Loan_Status  \n",
       "0             1.0         Urban           Y  \n",
       "1             1.0         Rural           N  \n",
       "2             1.0         Urban           Y  \n",
       "3             1.0         Urban           Y  \n",
       "4             1.0         Urban           Y  "
      ]
     },
     "execution_count": 2,
     "metadata": {},
     "output_type": "execute_result"
    }
   ],
   "source": [
    "data=pd.read_csv(\"D:\\gokulnath\\ibm\\Loan_Predict.csv\")\n",
    "data.head()"
   ]
  },
  {
   "cell_type": "code",
   "execution_count": 3,
   "metadata": {
    "colab": {
     "base_uri": "https://localhost:8080/"
    },
    "id": "nQuFFKony1uw",
    "outputId": "32f4f50d-8e68-42e1-a9cd-bad1e0fa5223"
   },
   "outputs": [
    {
     "name": "stderr",
     "output_type": "stream",
     "text": [
      "C:\\Users\\M.DEVENDRAN\\AppData\\Local\\Temp\\ipykernel_8264\\3364968343.py:2: DeprecationWarning: `np.object` is a deprecated alias for the builtin `object`. To silence this warning, use `object` by itself. Doing this will not modify any behavior and is safe. \n",
      "Deprecated in NumPy 1.20; for more details and guidance: https://numpy.org/devdocs/release/1.20.0-notes.html#deprecations\n",
      "  categorical_features = data.select_dtypes(include = [np.object]).columns\n"
     ]
    }
   ],
   "source": [
    "numerical_features = data.select_dtypes(include = [np.number]).columns\n",
    "categorical_features = data.select_dtypes(include = [np.object]).columns"
   ]
  },
  {
   "cell_type": "markdown",
   "metadata": {
    "id": "ac8gih-311K7"
   },
   "source": [
    "Checking for Null Values"
   ]
  },
  {
   "cell_type": "code",
   "execution_count": 4,
   "metadata": {
    "colab": {
     "base_uri": "https://localhost:8080/"
    },
    "id": "LkqjMgjEy1xM",
    "outputId": "bb7c99ac-a1fa-4c70-9177-4f51da7061c6"
   },
   "outputs": [
    {
     "data": {
      "text/plain": [
       "Loan_ID               0\n",
       "Gender               13\n",
       "Married               3\n",
       "Dependents           15\n",
       "Education             0\n",
       "Self_Employed        32\n",
       "ApplicantIncome       0\n",
       "CoapplicantIncome     0\n",
       "LoanAmount           22\n",
       "Loan_Amount_Term     14\n",
       "Credit_History       50\n",
       "Property_Area         0\n",
       "Loan_Status           0\n",
       "dtype: int64"
      ]
     },
     "execution_count": 4,
     "metadata": {},
     "output_type": "execute_result"
    }
   ],
   "source": [
    "data.isnull().sum()"
   ]
  },
  {
   "cell_type": "markdown",
   "metadata": {
    "id": "kwR8UIf314DG"
   },
   "source": [
    "Replacing Null Values with Mode and Median"
   ]
  },
  {
   "cell_type": "code",
   "execution_count": 5,
   "metadata": {
    "colab": {
     "base_uri": "https://localhost:8080/"
    },
    "id": "wficOFFXy1ro",
    "outputId": "65255167-0c9f-4437-e380-88b45dd6063c"
   },
   "outputs": [
    {
     "name": "stderr",
     "output_type": "stream",
     "text": [
      "C:\\Users\\M.DEVENDRAN\\AppData\\Local\\Temp\\ipykernel_8264\\1049561728.py:3: FutureWarning: The default value of regex will change from True to False in a future version. In addition, single character regular expressions will *not* be treated as literal strings when regex=True.\n",
      "  data['Dependents'] = data['Dependents'].str.replace('+','')\n"
     ]
    }
   ],
   "source": [
    "data['Gender'] = data['Gender'].fillna(data['Gender'].mode()[0])\n",
    "data['Married'] = data['Married'].fillna(data['Married'].mode()[0])\n",
    "data['Dependents'] = data['Dependents'].str.replace('+','')\n",
    "data['Dependents'] = data['Dependents'].fillna(data['Dependents'].mode()[0])\n",
    "data['LoanAmount'] = data['LoanAmount'].fillna(data['LoanAmount'].mode()[0])\n",
    "data['Self_Employed'] = data['Self_Employed'].fillna(data['Self_Employed'].mode()[0])\n",
    "data['Loan_Amount_Term'] = data['Loan_Amount_Term'].fillna(data['Loan_Amount_Term'].mode()[0])\n",
    "data['Credit_History'] = data['Credit_History'].fillna(data['Credit_History'].mode()[0])"
   ]
  },
  {
   "cell_type": "markdown",
   "metadata": {
    "id": "M4Rv8EZl19eO"
   },
   "source": [
    "Verifying"
   ]
  },
  {
   "cell_type": "code",
   "execution_count": 6,
   "metadata": {
    "colab": {
     "base_uri": "https://localhost:8080/"
    },
    "id": "24oEZH5My1ig",
    "outputId": "8d628abf-79c1-4bbd-9358-58810302e921"
   },
   "outputs": [
    {
     "data": {
      "text/plain": [
       "Loan_ID              0\n",
       "Gender               0\n",
       "Married              0\n",
       "Dependents           0\n",
       "Education            0\n",
       "Self_Employed        0\n",
       "ApplicantIncome      0\n",
       "CoapplicantIncome    0\n",
       "LoanAmount           0\n",
       "Loan_Amount_Term     0\n",
       "Credit_History       0\n",
       "Property_Area        0\n",
       "Loan_Status          0\n",
       "dtype: int64"
      ]
     },
     "execution_count": 6,
     "metadata": {},
     "output_type": "execute_result"
    }
   ],
   "source": [
    "data.isnull().sum()"
   ]
  },
  {
   "cell_type": "markdown",
   "metadata": {
    "id": "RACaUdyN1_MA"
   },
   "source": [
    "Conversion to Numerical Values"
   ]
  },
  {
   "cell_type": "code",
   "execution_count": 7,
   "metadata": {
    "id": "ycMqZiCGy1gE"
   },
   "outputs": [],
   "source": [
    "data['Gender'].replace({'Male':1,'Female':0},inplace=True)\n",
    "data['Dependents'].replace({'0':0,'1':1,'2':2,'3':3},inplace=True)\n",
    "data['Married'].replace({'Yes':1,'No':0},inplace=True)\n",
    "data['Self_Employed'].replace({'Yes':1,'No':0},inplace=True)\n",
    "data['Property_Area'].replace({'Urban':2,'Rural':0,'Semiurban':1},inplace=True)\n",
    "data['Education'].replace({'Graduate':1,'Not Graduate':0},inplace=True)\n",
    "data['Loan_Status'].replace({'Y':1,'N':0},inplace=True)"
   ]
  },
  {
   "cell_type": "code",
   "execution_count": 8,
   "metadata": {
    "id": "Ni-Bo_3-y1dw"
   },
   "outputs": [],
   "source": [
    "data['CoapplicantIncome']=data['CoapplicantIncome'].astype(\"int64\")\n",
    "data['LoanAmount']=data['LoanAmount'].astype(\"int64\")\n",
    "data['Loan_Amount_Term']=data['Loan_Amount_Term'].astype(\"int64\")\n",
    "data['Credit_History']=data['Credit_History'].astype(\"int64\")"
   ]
  },
  {
   "cell_type": "markdown",
   "metadata": {
    "id": "x-tzJQAz2CK3"
   },
   "source": [
    "Label Encoding"
   ]
  },
  {
   "cell_type": "code",
   "execution_count": 9,
   "metadata": {
    "colab": {
     "base_uri": "https://localhost:8080/",
     "height": 270
    },
    "id": "yzvHyqCzy1ba",
    "outputId": "86893cb2-3631-4964-bbea-657ae0c37b11"
   },
   "outputs": [
    {
     "data": {
      "text/html": [
       "<div>\n",
       "<style scoped>\n",
       "    .dataframe tbody tr th:only-of-type {\n",
       "        vertical-align: middle;\n",
       "    }\n",
       "\n",
       "    .dataframe tbody tr th {\n",
       "        vertical-align: top;\n",
       "    }\n",
       "\n",
       "    .dataframe thead th {\n",
       "        text-align: right;\n",
       "    }\n",
       "</style>\n",
       "<table border=\"1\" class=\"dataframe\">\n",
       "  <thead>\n",
       "    <tr style=\"text-align: right;\">\n",
       "      <th></th>\n",
       "      <th>Loan_ID</th>\n",
       "      <th>Gender</th>\n",
       "      <th>Married</th>\n",
       "      <th>Dependents</th>\n",
       "      <th>Education</th>\n",
       "      <th>Self_Employed</th>\n",
       "      <th>ApplicantIncome</th>\n",
       "      <th>CoapplicantIncome</th>\n",
       "      <th>LoanAmount</th>\n",
       "      <th>Loan_Amount_Term</th>\n",
       "      <th>Credit_History</th>\n",
       "      <th>Property_Area</th>\n",
       "      <th>Loan_Status</th>\n",
       "    </tr>\n",
       "  </thead>\n",
       "  <tbody>\n",
       "    <tr>\n",
       "      <th>0</th>\n",
       "      <td>0</td>\n",
       "      <td>1</td>\n",
       "      <td>0</td>\n",
       "      <td>0</td>\n",
       "      <td>1</td>\n",
       "      <td>0</td>\n",
       "      <td>5849</td>\n",
       "      <td>0</td>\n",
       "      <td>120</td>\n",
       "      <td>360</td>\n",
       "      <td>1</td>\n",
       "      <td>2</td>\n",
       "      <td>1</td>\n",
       "    </tr>\n",
       "    <tr>\n",
       "      <th>1</th>\n",
       "      <td>1</td>\n",
       "      <td>1</td>\n",
       "      <td>1</td>\n",
       "      <td>1</td>\n",
       "      <td>1</td>\n",
       "      <td>0</td>\n",
       "      <td>4583</td>\n",
       "      <td>1508</td>\n",
       "      <td>128</td>\n",
       "      <td>360</td>\n",
       "      <td>1</td>\n",
       "      <td>0</td>\n",
       "      <td>0</td>\n",
       "    </tr>\n",
       "    <tr>\n",
       "      <th>2</th>\n",
       "      <td>2</td>\n",
       "      <td>1</td>\n",
       "      <td>1</td>\n",
       "      <td>0</td>\n",
       "      <td>1</td>\n",
       "      <td>1</td>\n",
       "      <td>3000</td>\n",
       "      <td>0</td>\n",
       "      <td>66</td>\n",
       "      <td>360</td>\n",
       "      <td>1</td>\n",
       "      <td>2</td>\n",
       "      <td>1</td>\n",
       "    </tr>\n",
       "    <tr>\n",
       "      <th>3</th>\n",
       "      <td>3</td>\n",
       "      <td>1</td>\n",
       "      <td>1</td>\n",
       "      <td>0</td>\n",
       "      <td>0</td>\n",
       "      <td>0</td>\n",
       "      <td>2583</td>\n",
       "      <td>2358</td>\n",
       "      <td>120</td>\n",
       "      <td>360</td>\n",
       "      <td>1</td>\n",
       "      <td>2</td>\n",
       "      <td>1</td>\n",
       "    </tr>\n",
       "    <tr>\n",
       "      <th>4</th>\n",
       "      <td>4</td>\n",
       "      <td>1</td>\n",
       "      <td>0</td>\n",
       "      <td>0</td>\n",
       "      <td>1</td>\n",
       "      <td>0</td>\n",
       "      <td>6000</td>\n",
       "      <td>0</td>\n",
       "      <td>141</td>\n",
       "      <td>360</td>\n",
       "      <td>1</td>\n",
       "      <td>2</td>\n",
       "      <td>1</td>\n",
       "    </tr>\n",
       "  </tbody>\n",
       "</table>\n",
       "</div>"
      ],
      "text/plain": [
       "   Loan_ID  Gender  Married  Dependents  Education  Self_Employed  \\\n",
       "0        0       1        0           0          1              0   \n",
       "1        1       1        1           1          1              0   \n",
       "2        2       1        1           0          1              1   \n",
       "3        3       1        1           0          0              0   \n",
       "4        4       1        0           0          1              0   \n",
       "\n",
       "   ApplicantIncome  CoapplicantIncome  LoanAmount  Loan_Amount_Term  \\\n",
       "0             5849                  0         120               360   \n",
       "1             4583               1508         128               360   \n",
       "2             3000                  0          66               360   \n",
       "3             2583               2358         120               360   \n",
       "4             6000                  0         141               360   \n",
       "\n",
       "   Credit_History  Property_Area  Loan_Status  \n",
       "0               1              2            1  \n",
       "1               1              0            0  \n",
       "2               1              2            1  \n",
       "3               1              2            1  \n",
       "4               1              2            1  "
      ]
     },
     "execution_count": 9,
     "metadata": {},
     "output_type": "execute_result"
    }
   ],
   "source": [
    "le = LabelEncoder()\n",
    "data['Loan_ID'] = le.fit_transform(data.Loan_ID)\n",
    "data.head()"
   ]
  },
  {
   "cell_type": "code",
   "execution_count": 10,
   "metadata": {
    "colab": {
     "base_uri": "https://localhost:8080/"
    },
    "id": "zanL991t0l6J",
    "outputId": "d6bb0808-855c-4b2e-bbea-076343d346cb"
   },
   "outputs": [
    {
     "name": "stderr",
     "output_type": "stream",
     "text": [
      "C:\\Users\\M.DEVENDRAN\\AppData\\Roaming\\Python\\Python39\\site-packages\\imblearn\\utils\\_validation.py:586: FutureWarning: Pass sampling_strategy=0.9 as keyword args. From version 0.9 passing these as positional arguments will result in an error\n",
      "  warnings.warn(\n"
     ]
    }
   ],
   "source": [
    "smote = SMOTETomek(0.90)\n",
    "\n",
    "y = data['Loan_Status']\n",
    "x = data.drop(columns=['Loan_Status'],axis=1)"
   ]
  },
  {
   "cell_type": "code",
   "execution_count": 11,
   "metadata": {
    "colab": {
     "base_uri": "https://localhost:8080/"
    },
    "id": "VhPHv-hW0mDk",
    "outputId": "26738755-bcd0-495e-946c-0195b77ec397"
   },
   "outputs": [
    {
     "name": "stdout",
     "output_type": "stream",
     "text": [
      "1    422\n",
      "0    192\n",
      "Name: Loan_Status, dtype: int64\n",
      "1    359\n",
      "0    316\n",
      "Name: Loan_Status, dtype: int64\n"
     ]
    }
   ],
   "source": [
    "x_bal,y_bal = smote.fit_resample(x,y)\n",
    "print(y.value_counts())\n",
    "print(y_bal.value_counts())"
   ]
  },
  {
   "cell_type": "code",
   "execution_count": 12,
   "metadata": {
    "colab": {
     "base_uri": "https://localhost:8080/",
     "height": 206
    },
    "id": "GCA5mIm10mGb",
    "outputId": "e4c679b1-bf84-4ab0-a92a-2c7c4a0066c5"
   },
   "outputs": [
    {
     "data": {
      "text/html": [
       "<div>\n",
       "<style scoped>\n",
       "    .dataframe tbody tr th:only-of-type {\n",
       "        vertical-align: middle;\n",
       "    }\n",
       "\n",
       "    .dataframe tbody tr th {\n",
       "        vertical-align: top;\n",
       "    }\n",
       "\n",
       "    .dataframe thead th {\n",
       "        text-align: right;\n",
       "    }\n",
       "</style>\n",
       "<table border=\"1\" class=\"dataframe\">\n",
       "  <thead>\n",
       "    <tr style=\"text-align: right;\">\n",
       "      <th></th>\n",
       "      <th>0</th>\n",
       "      <th>1</th>\n",
       "      <th>2</th>\n",
       "      <th>3</th>\n",
       "      <th>4</th>\n",
       "      <th>5</th>\n",
       "      <th>6</th>\n",
       "      <th>7</th>\n",
       "      <th>8</th>\n",
       "      <th>9</th>\n",
       "      <th>10</th>\n",
       "      <th>11</th>\n",
       "    </tr>\n",
       "  </thead>\n",
       "  <tbody>\n",
       "    <tr>\n",
       "      <th>0</th>\n",
       "      <td>-1.839188</td>\n",
       "      <td>0.539102</td>\n",
       "      <td>-1.191367</td>\n",
       "      <td>-0.692431</td>\n",
       "      <td>0.598455</td>\n",
       "      <td>-0.331960</td>\n",
       "      <td>0.102170</td>\n",
       "      <td>-0.500419</td>\n",
       "      <td>-0.307819</td>\n",
       "      <td>0.263129</td>\n",
       "      <td>0.580201</td>\n",
       "      <td>1.381763</td>\n",
       "    </tr>\n",
       "    <tr>\n",
       "      <th>1</th>\n",
       "      <td>-1.833320</td>\n",
       "      <td>0.539102</td>\n",
       "      <td>0.839372</td>\n",
       "      <td>0.372241</td>\n",
       "      <td>0.598455</td>\n",
       "      <td>-0.331960</td>\n",
       "      <td>-0.124544</td>\n",
       "      <td>-0.044587</td>\n",
       "      <td>-0.205516</td>\n",
       "      <td>0.263129</td>\n",
       "      <td>0.580201</td>\n",
       "      <td>-1.212646</td>\n",
       "    </tr>\n",
       "    <tr>\n",
       "      <th>2</th>\n",
       "      <td>-1.827451</td>\n",
       "      <td>0.539102</td>\n",
       "      <td>0.839372</td>\n",
       "      <td>-0.692431</td>\n",
       "      <td>0.598455</td>\n",
       "      <td>3.012412</td>\n",
       "      <td>-0.408026</td>\n",
       "      <td>-0.500419</td>\n",
       "      <td>-0.998366</td>\n",
       "      <td>0.263129</td>\n",
       "      <td>0.580201</td>\n",
       "      <td>1.381763</td>\n",
       "    </tr>\n",
       "    <tr>\n",
       "      <th>3</th>\n",
       "      <td>-1.821583</td>\n",
       "      <td>0.539102</td>\n",
       "      <td>0.839372</td>\n",
       "      <td>-0.692431</td>\n",
       "      <td>-1.670968</td>\n",
       "      <td>-0.331960</td>\n",
       "      <td>-0.482702</td>\n",
       "      <td>0.212348</td>\n",
       "      <td>-0.307819</td>\n",
       "      <td>0.263129</td>\n",
       "      <td>0.580201</td>\n",
       "      <td>1.381763</td>\n",
       "    </tr>\n",
       "    <tr>\n",
       "      <th>4</th>\n",
       "      <td>-1.815715</td>\n",
       "      <td>0.539102</td>\n",
       "      <td>-1.191367</td>\n",
       "      <td>-0.692431</td>\n",
       "      <td>0.598455</td>\n",
       "      <td>-0.331960</td>\n",
       "      <td>0.129211</td>\n",
       "      <td>-0.500419</td>\n",
       "      <td>-0.039273</td>\n",
       "      <td>0.263129</td>\n",
       "      <td>0.580201</td>\n",
       "      <td>1.381763</td>\n",
       "    </tr>\n",
       "  </tbody>\n",
       "</table>\n",
       "</div>"
      ],
      "text/plain": [
       "         0         1         2         3         4         5         6   \\\n",
       "0 -1.839188  0.539102 -1.191367 -0.692431  0.598455 -0.331960  0.102170   \n",
       "1 -1.833320  0.539102  0.839372  0.372241  0.598455 -0.331960 -0.124544   \n",
       "2 -1.827451  0.539102  0.839372 -0.692431  0.598455  3.012412 -0.408026   \n",
       "3 -1.821583  0.539102  0.839372 -0.692431 -1.670968 -0.331960 -0.482702   \n",
       "4 -1.815715  0.539102 -1.191367 -0.692431  0.598455 -0.331960  0.129211   \n",
       "\n",
       "         7         8         9         10        11  \n",
       "0 -0.500419 -0.307819  0.263129  0.580201  1.381763  \n",
       "1 -0.044587 -0.205516  0.263129  0.580201 -1.212646  \n",
       "2 -0.500419 -0.998366  0.263129  0.580201  1.381763  \n",
       "3  0.212348 -0.307819  0.263129  0.580201  1.381763  \n",
       "4 -0.500419 -0.039273  0.263129  0.580201  1.381763  "
      ]
     },
     "execution_count": 12,
     "metadata": {},
     "output_type": "execute_result"
    }
   ],
   "source": [
    "scaler = StandardScaler()\n",
    "x_bal = scaler.fit_transform(x_bal)\n",
    "x_bal = pd.DataFrame(x_bal)\n",
    "x_bal.head()"
   ]
  },
  {
   "cell_type": "markdown",
   "metadata": {
    "id": "Gkp1jAcX2FPM"
   },
   "source": [
    "Splitting of Data into Train and Test"
   ]
  },
  {
   "cell_type": "code",
   "execution_count": 13,
   "metadata": {
    "id": "dFspRuDx0mIi"
   },
   "outputs": [],
   "source": [
    "x_train, x_test, y_train, y_test = train_test_split(x_bal, y_bal, test_size = 0.33, random_state = 30)"
   ]
  },
  {
   "cell_type": "markdown",
   "metadata": {
    "id": "VshW3DoT2K2f"
   },
   "source": [
    "Compare The Model"
   ]
  },
  {
   "cell_type": "markdown",
   "metadata": {
    "id": "3dJbF0x4E6nZ"
   },
   "source": [
    "Random Forest \n"
   ]
  },
  {
   "cell_type": "code",
   "execution_count": 14,
   "metadata": {
    "colab": {
     "base_uri": "https://localhost:8080/"
    },
    "id": "xTzietEnE8KA",
    "outputId": "6caf877a-2689-47bf-8f42-e437a778fd3a"
   },
   "outputs": [
    {
     "name": "stdout",
     "output_type": "stream",
     "text": [
      "RandomForestClassifier\n",
      "Confusion matrix\n",
      "[[ 75  29]\n",
      " [ 19 100]]\n",
      "Classification report\n",
      "              precision    recall  f1-score   support\n",
      "\n",
      "           0       0.80      0.72      0.76       104\n",
      "           1       0.78      0.84      0.81       119\n",
      "\n",
      "    accuracy                           0.78       223\n",
      "   macro avg       0.79      0.78      0.78       223\n",
      "weighted avg       0.79      0.78      0.78       223\n",
      "\n",
      "Testing accuracy:  0.7847533632286996\n",
      "Training accuracy:  1.0\n"
     ]
    }
   ],
   "source": [
    "def randomForestClassifier(x_train, x_test, y_train, y_test):\n",
    "    rf = RandomForestClassifier() \n",
    "    rf.fit(x_train,y_train)\n",
    "    yPred = rf.predict(x_test)\n",
    "    print(\"RandomForestClassifier\") \n",
    "    print(\"Confusion matrix\")\n",
    "    print(confusion_matrix(y_test ,yPred) ) \n",
    "    print(\"Classification report\")\n",
    "    print(classification_report (y_test, yPred))\n",
    "    y_pred=rf.predict(x_test)\n",
    "    y_pred1=rf.predict(x_train)\n",
    "    random_forest_test_accuracy = accuracy_score(y_test,y_pred)\n",
    "    random_forest_train_accuracy = accuracy_score(y_train,y_pred1)\n",
    "    print('Testing accuracy: ', random_forest_test_accuracy)\n",
    "    print('Training accuracy: ',random_forest_train_accuracy)\n",
    "\n",
    "randomForestClassifier(x_train, x_test, y_train, y_test)"
   ]
  },
  {
   "cell_type": "markdown",
   "metadata": {
    "id": "K5iLfEbvE_gP"
   },
   "source": [
    "Decision Tree "
   ]
  },
  {
   "cell_type": "code",
   "execution_count": 15,
   "metadata": {
    "colab": {
     "base_uri": "https://localhost:8080/"
    },
    "id": "pVXdOoKkE8zU",
    "outputId": "7eccc3b9-955e-4b23-c348-a84f416b57a5"
   },
   "outputs": [
    {
     "name": "stdout",
     "output_type": "stream",
     "text": [
      "DecisionTreeClassifier\n",
      "Confusion matrix\n",
      "[[76 28]\n",
      " [28 91]]\n",
      "Classification report\n",
      "              precision    recall  f1-score   support\n",
      "\n",
      "           0       0.73      0.73      0.73       104\n",
      "           1       0.76      0.76      0.76       119\n",
      "\n",
      "    accuracy                           0.75       223\n",
      "   macro avg       0.75      0.75      0.75       223\n",
      "weighted avg       0.75      0.75      0.75       223\n",
      "\n",
      "Testing accuracy:  0.7488789237668162\n",
      "Training accuracy:  1.0\n"
     ]
    }
   ],
   "source": [
    "def decisionTreeClassifier(x_train, x_test, y_train, y_test):\n",
    "    dt = DecisionTreeClassifier() \n",
    "    dt.fit(x_train,y_train)\n",
    "    yPred = dt.predict(x_test)\n",
    "    print(\"DecisionTreeClassifier\") \n",
    "    print(\"Confusion matrix\")\n",
    "    print(confusion_matrix(y_test ,yPred) ) \n",
    "    print(\"Classification report\")\n",
    "    print(classification_report (y_test, yPred))\n",
    "    y_pred=dt.predict(x_test)\n",
    "    y_pred1=dt.predict(x_train)\n",
    "    decision_tree_test_accuracy = accuracy_score(y_test,y_pred)\n",
    "    decision_tree_train_accuracy = accuracy_score(y_train,y_pred1)\n",
    "    print('Testing accuracy: ', decision_tree_test_accuracy)\n",
    "    print('Training accuracy: ', decision_tree_train_accuracy)\n",
    "\n",
    "decisionTreeClassifier(x_train, x_test, y_train, y_test)"
   ]
  },
  {
   "cell_type": "markdown",
   "metadata": {
    "id": "mTF-QcUYFB-w"
   },
   "source": [
    "KNN"
   ]
  },
  {
   "cell_type": "code",
   "execution_count": 16,
   "metadata": {
    "colab": {
     "base_uri": "https://localhost:8080/"
    },
    "id": "jmiOHV9lE8w8",
    "outputId": "e2e8425e-4ce9-4985-cddc-9c07e617406f"
   },
   "outputs": [
    {
     "name": "stdout",
     "output_type": "stream",
     "text": [
      "KNN\n",
      "Confusion matrix\n",
      "[[68 36]\n",
      " [25 94]]\n",
      "Classification report\n",
      "              precision    recall  f1-score   support\n",
      "\n",
      "           0       0.73      0.65      0.69       104\n",
      "           1       0.72      0.79      0.76       119\n",
      "\n",
      "    accuracy                           0.73       223\n",
      "   macro avg       0.73      0.72      0.72       223\n",
      "weighted avg       0.73      0.73      0.72       223\n",
      "\n",
      "Testing accuracy:  0.726457399103139\n",
      "Training accuracy:  0.8362831858407079\n"
     ]
    }
   ],
   "source": [
    "def kneighborsClassifier(x_train, x_test, y_train, y_test):\n",
    "    knn = KNeighborsClassifier() \n",
    "    knn.fit(x_train,y_train)\n",
    "    yPred = knn.predict(x_test)\n",
    "    print(\"KNN\") \n",
    "    print(\"Confusion matrix\")\n",
    "    print(confusion_matrix(y_test ,yPred) ) \n",
    "    print(\"Classification report\")\n",
    "    print(classification_report (y_test, yPred))\n",
    "    y_pred=knn.predict(x_test)\n",
    "    y_pred1=knn.predict(x_train)\n",
    "    knn_test_accuracy = accuracy_score(y_test,y_pred)\n",
    "    knn_train_accuracy = accuracy_score(y_train,y_pred1)\n",
    "    print('Testing accuracy: ',knn_test_accuracy)\n",
    "    print('Training accuracy: ', knn_train_accuracy)\n",
    "\n",
    "kneighborsClassifier(x_train, x_test, y_train, y_test)"
   ]
  },
  {
   "cell_type": "markdown",
   "metadata": {
    "id": "38judu77FFGR"
   },
   "source": [
    "Xgboost"
   ]
  },
  {
   "cell_type": "code",
   "execution_count": 17,
   "metadata": {
    "colab": {
     "base_uri": "https://localhost:8080/"
    },
    "id": "C5olzEZqE8vE",
    "outputId": "455918a8-2a7e-45c2-a790-c3b95b2eef82"
   },
   "outputs": [
    {
     "name": "stdout",
     "output_type": "stream",
     "text": [
      "Xgboost\n",
      "Confusion matrix\n",
      "[[71 33]\n",
      " [26 93]]\n",
      "Classification report\n",
      "              precision    recall  f1-score   support\n",
      "\n",
      "           0       0.73      0.68      0.71       104\n",
      "           1       0.74      0.78      0.76       119\n",
      "\n",
      "    accuracy                           0.74       223\n",
      "   macro avg       0.74      0.73      0.73       223\n",
      "weighted avg       0.74      0.74      0.73       223\n",
      "\n",
      "Testing accuracy:  0.7354260089686099\n",
      "Training accuracy:  0.9380530973451328\n"
     ]
    }
   ],
   "source": [
    "def xgboost(x_train, x_test, y_train, y_test):\n",
    "    xg = GradientBoostingClassifier() \n",
    "    xg.fit(x_train,y_train)\n",
    "    yPred = xg.predict(x_test)\n",
    "    print(\"Xgboost\") \n",
    "    print(\"Confusion matrix\")\n",
    "    print(confusion_matrix(y_test ,yPred) ) \n",
    "    print(\"Classification report\")\n",
    "    print(classification_report (y_test, yPred))\n",
    "    y_pred=xg.predict(x_test)\n",
    "    y_pred1=xg.predict(x_train)\n",
    "    xgboost_test_accuracy = accuracy_score(y_test,y_pred)\n",
    "    xgboost_train_accuracy = accuracy_score(y_train,y_pred1)\n",
    "    print('Testing accuracy: ', xgboost_test_accuracy)\n",
    "    print('Training accuracy: ', xgboost_train_accuracy)\n",
    "  \n",
    "xgboost(x_train, x_test, y_train, y_test)"
   ]
  },
  {
   "cell_type": "code",
   "execution_count": 18,
   "metadata": {
    "colab": {
     "base_uri": "https://localhost:8080/"
    },
    "id": "K3zNtjBWE8tO",
    "outputId": "7f9d0ba6-e152-4a51-d7f6-9f2ffcf305e1"
   },
   "outputs": [
    {
     "name": "stdout",
     "output_type": "stream",
     "text": [
      "RandomForestClassifier\n",
      "Confusion matrix\n",
      "[[ 76  28]\n",
      " [ 18 101]]\n",
      "Classification report\n",
      "              precision    recall  f1-score   support\n",
      "\n",
      "           0       0.81      0.73      0.77       104\n",
      "           1       0.78      0.85      0.81       119\n",
      "\n",
      "    accuracy                           0.79       223\n",
      "   macro avg       0.80      0.79      0.79       223\n",
      "weighted avg       0.79      0.79      0.79       223\n",
      "\n",
      "Testing accuracy:  0.7937219730941704\n",
      "Training accuracy:  1.0\n",
      "DecisionTreeClassifier\n",
      "Confusion matrix\n",
      "[[76 28]\n",
      " [30 89]]\n",
      "Classification report\n",
      "              precision    recall  f1-score   support\n",
      "\n",
      "           0       0.72      0.73      0.72       104\n",
      "           1       0.76      0.75      0.75       119\n",
      "\n",
      "    accuracy                           0.74       223\n",
      "   macro avg       0.74      0.74      0.74       223\n",
      "weighted avg       0.74      0.74      0.74       223\n",
      "\n",
      "Testing accuracy:  0.7399103139013453\n",
      "Training accuracy:  1.0\n",
      "KNN\n",
      "Confusion matrix\n",
      "[[68 36]\n",
      " [25 94]]\n",
      "Classification report\n",
      "              precision    recall  f1-score   support\n",
      "\n",
      "           0       0.73      0.65      0.69       104\n",
      "           1       0.72      0.79      0.76       119\n",
      "\n",
      "    accuracy                           0.73       223\n",
      "   macro avg       0.73      0.72      0.72       223\n",
      "weighted avg       0.73      0.73      0.72       223\n",
      "\n",
      "Testing accuracy:  0.726457399103139\n",
      "Training accuracy:  0.8362831858407079\n",
      "Xgboost\n",
      "Confusion matrix\n",
      "[[71 33]\n",
      " [26 93]]\n",
      "Classification report\n",
      "              precision    recall  f1-score   support\n",
      "\n",
      "           0       0.73      0.68      0.71       104\n",
      "           1       0.74      0.78      0.76       119\n",
      "\n",
      "    accuracy                           0.74       223\n",
      "   macro avg       0.74      0.73      0.73       223\n",
      "weighted avg       0.74      0.74      0.73       223\n",
      "\n",
      "Testing accuracy:  0.7354260089686099\n",
      "Training accuracy:  0.9380530973451328\n"
     ]
    }
   ],
   "source": [
    "randomForestClassifier(x_train, x_test, y_train, y_test)\n",
    "decisionTreeClassifier(x_train, x_test, y_train, y_test)\n",
    "kneighborsClassifier(x_train, x_test, y_train, y_test)\n",
    "xgboost(x_train, x_test, y_train, y_test)"
   ]
  },
  {
   "cell_type": "markdown",
   "metadata": {
    "id": "dQc3QjGhF3II"
   },
   "source": [
    "By comparing the accuracy of all the models we can see that random forest model is giving better accuracy\n",
    "Hence random forest model is choosen for further steps"
   ]
  },
  {
   "cell_type": "markdown",
   "metadata": {
    "id": "HP5XXRwyHO3Q"
   },
   "source": [
    "Evaluating Performance Of The Model And Saving The Model"
   ]
  },
  {
   "cell_type": "code",
   "execution_count": 19,
   "metadata": {
    "colab": {
     "base_uri": "https://localhost:8080/"
    },
    "id": "e15NKBPQHOdr",
    "outputId": "9cb20ecb-38cc-4860-9703-0cfb0ad1d76c"
   },
   "outputs": [
    {
     "data": {
      "text/plain": [
       "0.7817539650806344"
      ]
     },
     "execution_count": 19,
     "metadata": {},
     "output_type": "execute_result"
    }
   ],
   "source": [
    "from sklearn.model_selection import cross_val_score\n",
    "rf = RandomForestClassifier() \n",
    "rf.fit(x_train,y_train)\n",
    "yPred = rf.predict(x_test)\n",
    "f1_score(yPred,y_test, average='weighted')\n",
    "cv = cross_val_score(rf,x,y,cv=5)\n",
    "np.mean(cv)"
   ]
  },
  {
   "cell_type": "code",
   "execution_count": 20,
   "metadata": {
    "id": "7yeFlaV8HObP"
   },
   "outputs": [],
   "source": [
    "import pickle\n",
    "pickle.dump(rf, open('model.pkl','wb'))"
   ]
  },
  {
   "cell_type": "code",
   "execution_count": 21,
   "metadata": {
    "colab": {
     "base_uri": "https://localhost:8080/"
    },
    "id": "gL491bysHOYf",
    "outputId": "a04183de-50fb-440e-8d71-c609642d05a0"
   },
   "outputs": [
    {
     "data": {
      "text/plain": [
       "array([1, 1, 1, 1, 1, 1, 0, 0, 0, 1, 1, 1, 1, 1, 0, 1, 0, 0, 0, 1, 0, 1,\n",
       "       1, 0, 1, 0, 1, 1, 1, 1, 1, 0, 0, 0, 1, 1, 1, 0, 1, 1, 1, 1, 0, 1,\n",
       "       0, 1, 1, 0, 1, 0, 1, 1, 1, 1, 0, 1, 0, 0, 1, 1, 0, 0, 1, 0, 1, 0,\n",
       "       1, 1, 1, 1, 1, 1, 1, 1, 0, 0, 0, 1, 1, 0, 1, 0, 1, 0, 1, 0, 1, 1,\n",
       "       0, 0, 1, 0, 1, 0, 0, 1, 1, 0, 1, 1, 1, 0, 1, 1, 0, 0, 1, 0, 0, 1,\n",
       "       0, 1, 1, 1, 1, 0, 0, 1, 1, 0, 1, 0, 1, 0, 1, 1, 0, 1, 1, 1, 1, 0,\n",
       "       1, 1, 0, 1, 1, 0, 0, 1, 1, 1, 1, 1, 1, 1, 1, 0, 0, 1, 1, 0, 0, 1,\n",
       "       0, 1, 1, 1, 1, 0, 0, 1, 1, 1, 0, 0, 0, 1, 1, 0, 0, 0, 1, 1, 0, 1,\n",
       "       0, 0, 0, 0, 0, 0, 0, 1, 1, 0, 1, 1, 1, 0, 1, 0, 0, 0, 1, 1, 1, 1,\n",
       "       1, 1, 1, 1, 1, 0, 0, 0, 0, 1, 1, 1, 0, 0, 0, 0, 0, 1, 0, 0, 1, 1,\n",
       "       1, 1, 0], dtype=int64)"
      ]
     },
     "execution_count": 21,
     "metadata": {},
     "output_type": "execute_result"
    }
   ],
   "source": [
    "loaded_rf = pickle.load(open('model.pkl','rb'))\n",
    "loaded_rf.predict(x_test)"
   ]
  },
  {
   "cell_type": "code",
   "execution_count": null,
   "metadata": {},
   "outputs": [],
   "source": []
  },
  {
   "cell_type": "code",
   "execution_count": null,
   "metadata": {},
   "outputs": [],
   "source": []
  }
 ],
 "metadata": {
  "colab": {
   "provenance": []
  },
  "kernelspec": {
   "display_name": "Python 3 (ipykernel)",
   "language": "python",
   "name": "python3"
  },
  "language_info": {
   "codemirror_mode": {
    "name": "ipython",
    "version": 3
   },
   "file_extension": ".py",
   "mimetype": "text/x-python",
   "name": "python",
   "nbconvert_exporter": "python",
   "pygments_lexer": "ipython3",
   "version": "3.9.12"
  }
 },
 "nbformat": 4,
 "nbformat_minor": 1
}
